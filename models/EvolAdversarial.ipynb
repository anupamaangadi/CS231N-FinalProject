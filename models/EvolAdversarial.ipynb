{
 "cells": [
  {
   "cell_type": "markdown",
   "metadata": {
    "collapsed": false
   },
   "source": [
    "## EvolAdversarial ##\n",
    "\n",
    "This notebook runs the evolutionary adversarial examples from Nguyen et al. 2015 and performs some exploratory analysis on them.  Note that Nguyen et al. generate the images from Alexnet, and we are using VGG19.  In a way, the purpose of this notebook is to test the generalization of adversarial examples over relatively simple, yet state-of-the-art networks.  "
   ]
  },
  {
   "cell_type": "code",
   "execution_count": 3,
   "metadata": {
    "collapsed": false
   },
   "outputs": [],
   "source": [
    "import vgg19\n",
    "import numpy as np\n",
    "from urllib import urlretrieve\n",
    "import gzip"
   ]
  },
  {
   "cell_type": "code",
   "execution_count": 4,
   "metadata": {
    "collapsed": true
   },
   "outputs": [],
   "source": [
    "import tarfile\n",
    "\n",
    "def ensure_data_exists ():\n",
    "    \"\"\" \n",
    "    Loads CPPN adversarial examples if they don't already exist.\n",
    "    \"\"\"\n",
    "    filename = \"fooling_images_5000_cppn.tar.gz\"\n",
    "    url = \"http://www.evolvingai.org/share/fooling_images_5000_cppn.tar.gz\"\n",
    "    \n",
    "    if not os.path.exists('../datasets/{0}'.format(filename)):\n",
    "        print \"Adversarial data set didn't exist, downloading...\"\n",
    "        urlretrieve(url, '../datasets/'+filename)\n",
    "        print \"Download complete.\"\n",
    "    \n",
    "\n",
    "def load_data ():\n",
    "    \"\"\" \n",
    "    Import the evolutionary adversarial examples.  \n",
    "    \n",
    "    Returns:\n",
    "    :images: a (N, C, H, W) tensor containing the validation dataset.\n",
    "    :metadata: a list containing file metadata corresponding to each image.   \n",
    "    \"\"\"\n",
    "    pass\n"
   ]
  },
  {
   "cell_type": "code",
   "execution_count": null,
   "metadata": {
    "collapsed": true
   },
   "outputs": [],
   "source": [
    "classes, mean_image, values = load_data()\n",
    "\n",
    "net = build_model()\n",
    "lasagne.layers.set_all_param_values(net['prob'], values)\n",
    "\n",
    "\n"
   ]
  }
 ],
 "metadata": {
  "kernelspec": {
   "display_name": "Python 2",
   "language": "python",
   "name": "python2"
  },
  "language_info": {
   "codemirror_mode": {
    "name": "ipython",
    "version": 2
   },
   "file_extension": ".py",
   "mimetype": "text/x-python",
   "name": "python",
   "nbconvert_exporter": "python",
   "pygments_lexer": "ipython2",
   "version": "2.7.6"
  }
 },
 "nbformat": 4,
 "nbformat_minor": 0
}
