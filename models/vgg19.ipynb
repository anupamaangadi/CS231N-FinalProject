{
 "cells": [
  {
   "cell_type": "code",
   "execution_count": null,
   "metadata": {
    "collapsed": true
   },
   "outputs": [],
   "source": [
    "#VGG 19 Model and results"
   ]
  },
  {
   "cell_type": "code",
   "execution_count": 1,
   "metadata": {
    "collapsed": false
   },
   "outputs": [
    {
     "name": "stderr",
     "output_type": "stream",
     "text": [
      "/afs/ir.stanford.edu/users/c/j/cjbillov/cs231n/project/CS231N-FinalProject/.env/local/lib/python2.7/site-packages/matplotlib/font_manager.py:273: UserWarning: Matplotlib is building the font cache using fc-list. This may take a moment.\n",
      "  warnings.warn('Matplotlib is building the font cache using fc-list. This may take a moment.')\n"
     ]
    }
   ],
   "source": [
    "import numpy as np\n",
    "import matplotlib.pyplot as plt\n",
    "import cPickle as pickle\n",
    "import urllib\n",
    "import io\n",
    "import skimage.transform\n",
    "\n",
    "import lasagne\n",
    "from lasagne.layers import InputLayer, DenseLayer, DropoutLayer\n",
    "from lasagne.layers.conv import Conv2DLayer as ConvLayer\n",
    "from lasagne.layers.pool import Pool2DLayer as PoolLayer\n",
    "from lasagne.layers import NonlinearityLayer\n",
    "from lasagne.layers import DropoutLayer\n",
    "from lasagne.layers import LocalResponseNormalization2DLayer as NormLayer\n",
    "from lasagne.utils import floatX\n",
    "from lasagne.nonlinearities import softmax"
   ]
  },
  {
   "cell_type": "code",
   "execution_count": 2,
   "metadata": {
    "collapsed": true
   },
   "outputs": [],
   "source": [
    "def prep_image(url):\n",
    "    ext = url.split('.')[-1]\n",
    "    try:\n",
    "        im = plt.imread(io.BytesIO(urllib.urlopen(url).read()), ext)\n",
    "    \n",
    "        # Resize so smallest dim = 256, preserving aspect ratio\n",
    "        h, w, _ = im.shape\n",
    "        if h < w:\n",
    "            im = skimage.transform.resize(im, (256, w*256/h), preserve_range=True)\n",
    "        else:\n",
    "            im = skimage.transform.resize(im, (h*256/w, 256), preserve_range=True)\n",
    "\n",
    "        # Central crop to 224x224\n",
    "        h, w, _ = im.shape\n",
    "        im = im[h//2-112:h//2+112, w//2-112:w//2+112]\n",
    "        rawim = np.copy(im).astype('uint8')\n",
    "\n",
    "        # Shuffle axes to c01\n",
    "        im = np.swapaxes(np.swapaxes(im, 1, 2), 0, 1)\n",
    "\n",
    "        # Convert to BGR\n",
    "        im = im[::-1, :, :]\n",
    "        im = im - MEAN_IMAGE[:,None,None]\n",
    "        return rawim, floatX(im[np.newaxis])\n",
    "    except:\n",
    "        # Abort\n",
    "        print \"skipping url \" + url\n",
    "        return None, np.empty((0,))\n",
    "    "
   ]
  },
  {
   "cell_type": "code",
   "execution_count": 3,
   "metadata": {
    "collapsed": true
   },
   "outputs": [],
   "source": [
    "# Model to be trained/tested against\n",
    "\n",
    "def build_model():\n",
    "    net = {}\n",
    "    net['input'] = InputLayer((None, 3, 224, 224))\n",
    "    net['conv1_1'] = ConvLayer(\n",
    "        net['input'], 64, 3, pad=1)\n",
    "    net['conv1_2'] = ConvLayer(\n",
    "        net['conv1_1'], 64, 3, pad=1)\n",
    "    net['pool1'] = PoolLayer(net['conv1_2'], 2)\n",
    "    net['conv2_1'] = ConvLayer(\n",
    "        net['pool1'], 128, 3, pad=1)\n",
    "    net['conv2_2'] = ConvLayer(\n",
    "        net['conv2_1'], 128, 3, pad=1)\n",
    "    net['pool2'] = PoolLayer(net['conv2_2'], 2)\n",
    "    net['conv3_1'] = ConvLayer(\n",
    "        net['pool2'], 256, 3, pad=1)\n",
    "    net['conv3_2'] = ConvLayer(\n",
    "        net['conv3_1'], 256, 3, pad=1)\n",
    "    net['conv3_3'] = ConvLayer(\n",
    "        net['conv3_2'], 256, 3, pad=1)\n",
    "    net['conv3_4'] = ConvLayer(\n",
    "        net['conv3_3'], 256, 3, pad=1)\n",
    "    net['pool3'] = PoolLayer(net['conv3_4'], 2)\n",
    "    net['conv4_1'] = ConvLayer(\n",
    "        net['pool3'], 512, 3, pad=1)\n",
    "    net['conv4_2'] = ConvLayer(\n",
    "        net['conv4_1'], 512, 3, pad=1)\n",
    "    net['conv4_3'] = ConvLayer(\n",
    "        net['conv4_2'], 512, 3, pad=1)\n",
    "    net['conv4_4'] = ConvLayer(\n",
    "        net['conv4_3'], 512, 3, pad=1)\n",
    "    net['pool4'] = PoolLayer(net['conv4_4'], 2)\n",
    "    net['conv5_1'] = ConvLayer(\n",
    "        net['pool4'], 512, 3, pad=1)\n",
    "    net['conv5_2'] = ConvLayer(\n",
    "        net['conv5_1'], 512, 3, pad=1)\n",
    "    net['conv5_3'] = ConvLayer(\n",
    "        net['conv5_2'], 512, 3, pad=1)\n",
    "    net['conv5_4'] = ConvLayer(\n",
    "        net['conv5_3'], 512, 3, pad=1)\n",
    "    net['pool5'] = PoolLayer(net['conv5_4'], 2)\n",
    "    net['fc6'] = DenseLayer(net['pool5'], num_units=4096)\n",
    "    net['fc6_dropout'] = DropoutLayer(net['fc6'], p=0.5)\n",
    "    net['fc7'] = DenseLayer(net['fc6_dropout'], num_units=4096)\n",
    "    net['fc7_dropout'] = DropoutLayer(net['fc7'], p=0.5)\n",
    "    net['fc8'] = DenseLayer(\n",
    "        net['fc7_dropout'], num_units=1000, nonlinearity=None)\n",
    "    net['prob'] = NonlinearityLayer(net['fc8'], softmax)\n",
    "\n",
    "    return net"
   ]
  },
  {
   "cell_type": "code",
   "execution_count": 4,
   "metadata": {
    "collapsed": false
   },
   "outputs": [],
   "source": [
    "# Load model parameters and metadata\n",
    "model = pickle.load(open('../weights/vgg19.pkl'))\n",
    "\n",
    "CLASSES = model['synset words']\n",
    "MEAN_IMAGE = model['mean value']\n",
    "\n",
    "net = build_model()\n",
    "lasagne.layers.set_all_param_values(net['prob'], model['param values'])"
   ]
  },
  {
   "cell_type": "code",
   "execution_count": 10,
   "metadata": {
    "collapsed": false
   },
   "outputs": [
    {
     "name": "stdout",
     "output_type": "stream",
     "text": [
      "0 http://farm2.static.flickr.com/1396/905645209_85847a4186.jpg\n",
      "1 http://farm3.static.flickr.com/2468/5821472960_f3cba8ff54.jpg\n",
      "2 http://www.justphotos.ca/galleries/macro/bugs/images/035421.jpg\n",
      "2 http://farm4.static.flickr.com/3339/3343713902_a49b2be8ac.jpg\n",
      "3 http://farm4.static.flickr.com/3554/3554602023_b21e0d154f.jpg\n",
      "4 http://farm5.static.flickr.com/4037/4300141082_8ee7cb4bf9.jpg\n",
      "5 http://farm3.static.flickr.com/2677/4128046562_5b84309aff.jpg\n",
      "6 http://farm4.static.flickr.com/3662/3374552636_1d5fc02f74.jpg\n",
      "7 http://farm3.static.flickr.com/2205/5747671564_b2915c78fd.jpg\n",
      "8 http://farm5.static.flickr.com/4031/4693953965_6b629db08c.jpg\n",
      "9 http://farm5.static.flickr.com/4113/5170685559_4a7ec7dabb.jpg\n",
      "10 http://images.wildmadagascar.org/thumbnails/berenty/ring_210030.jpg\n",
      "10 http://www.visualphotos.com/photo/2x2668125/friends_playing_croquet_cb024797.jpg\n",
      "10 http://farm1.static.flickr.com/22/32597379_308b7388d4.jpg\n",
      "11 http://farm5.static.flickr.com/4017/5153223246_b8826496c9.jpg\n",
      "12 http://farm4.static.flickr.com/3269/3066296086_1b0c8f44c5.jpg\n",
      "13 http://farm3.static.flickr.com/2273/2330135232_1366b98ab3.jpg\n",
      "14 http://www.lufo.ro/infoeducatie/Pagini/Timis/Muntii%20Carpati/faunaimg/vulpea_vulpes_vulpes_2.jpg\n",
      "14 http://farm3.static.flickr.com/2763/4480714165_a22b693306.jpg\n",
      "15 http://farm6.static.flickr.com/5309/5562083253_05b94c409e.jpg\n",
      "16 http://farm6.static.flickr.com/5226/5689894567_45eeb9bd2e.jpg\n",
      "skipping url http://farm6.static.flickr.com/5226/5689894567_45eeb9bd2e.jpg\n",
      "16 http://farm1.static.flickr.com/43/113235749_eca088071d.jpg\n",
      "17 http://farm1.static.flickr.com/93/245126635_d3d11be85c.jpg\n",
      "18 http://farm4.static.flickr.com/3118/3159240790_aa06eb1d22.jpg\n",
      "19 http://farm5.static.flickr.com/4126/4959131261_66c1be83d9.jpg\n",
      "20 http://majorlycool.com/media/1/snow-monkeys/japanese-macaque-mother-with-infant.jpg\n",
      "20 http://farm4.static.flickr.com/3271/2921664078_5122570a32.jpg\n",
      "21 http://farm1.static.flickr.com/183/411281573_71feea1203.jpg\n",
      "22 http://us.123rf.com/400wm/400/400/emielcia/emielcia0610/emielcia061000011/559505.jpg\n",
      "22 http://farm1.static.flickr.com/30/37646480_e3c5ec0e73.jpg\n",
      "23 http://farm5.static.flickr.com/4047/4567966435_0c727fcb1d.jpg\n",
      "24 http://farm4.static.flickr.com/3029/2830313008_351ece06b4.jpg\n",
      "25 http://farm6.static.flickr.com/5253/5418236417_3069a8c9c3.jpg\n",
      "26 http://farm1.static.flickr.com/171/413870595_bd25b28fb6.jpg\n",
      "27 http://farm4.static.flickr.com/3003/4562327661_631818712a.jpg\n",
      "28 http://farm3.static.flickr.com/2552/3684440526_d53992e0b7.jpg\n",
      "29 http://farm5.static.flickr.com/4024/4317309950_0598b928ed.jpg\n",
      "30 http://farm4.static.flickr.com/3338/3200350734_03b8385cee.jpg\n",
      "31 http://huanke.hiao.com/upload/200965-2343-4406.jpg\n",
      "31 http://farm4.static.flickr.com/3514/3888160371_5450d17a46.jpg\n",
      "32 http://farm1.static.flickr.com/50/112407052_ad42a2338e.jpg\n",
      "33 http://farm5.static.flickr.com/4149/5007194347_b04a2d74a6.jpg\n",
      "34 http://farm1.static.flickr.com/26/60791441_04104271f5.jpg\n",
      "35 http://www.charliesbirdblog.com/~charlie/HKG22jan05/macaque.jpg\n",
      "35 http://farm6.static.flickr.com/5060/5537516779_b87073f286.jpg\n",
      "36 http://farm4.static.flickr.com/3098/3209170351_37de2dd62e.jpg\n",
      "37 http://farm5.static.flickr.com/4074/4876246273_365c064430.jpg\n",
      "38 http://farm2.static.flickr.com/1150/4732757113_e8cd4620ff.jpg\n",
      "39 http://farm5.static.flickr.com/4061/4684698122_6290436728.jpg\n",
      "40 http://farm4.static.flickr.com/3588/3330962814_0a562993ba.jpg\n",
      "41 http://farm5.static.flickr.com/4002/4296312810_ea3d3acc1f.jpg\n",
      "42 http://farm4.static.flickr.com/3310/3195186136_07440c9589.jpg\n",
      "43 http://farm3.static.flickr.com/2246/2447415718_ea7a746d4e.jpg\n",
      "44 http://farm4.static.flickr.com/3476/3232738043_7071856f71.jpg\n",
      "45 http://farm5.static.flickr.com/4016/4225055850_cd1ff3c3b8.jpg\n",
      "46 http://farm4.static.flickr.com/3155/2751462549_6da88c8b38.jpg\n",
      "47 http://farm4.static.flickr.com/3192/2980682970_3bee1687da.jpg\n",
      "48 http://farm4.static.flickr.com/3127/3124714148_273ed60a2c.jpg\n",
      "49 http://farm6.static.flickr.com/5018/5400835947_0ba05b141d.jpg\n",
      "50 http://farm4.static.flickr.com/3466/3278826215_08f014e382.jpg\n",
      "51 http://farm3.static.flickr.com/2231/1790200935_d07c1a8290.jpg\n",
      "52 http://farm3.static.flickr.com/2066/2090703076_c03fec1b00.jpg\n",
      "53 http://farm3.static.flickr.com/2558/3776724441_83922c3047.jpg\n",
      "54 http://farm4.static.flickr.com/3595/5751252343_de5cd80b4f.jpg\n",
      "55 http://static.flickr.com/2311/2202855831_5f3223a96d.jpg\n",
      "56 http://farm4.static.flickr.com/3643/3405790454_3a69acb549.jpg\n",
      "57 http://farm5.static.flickr.com/4127/5035714564_612618d2c2.jpg\n",
      "58 http://farm1.static.flickr.com/183/494493256_ee8613ef6d.jpg\n",
      "59 http://www.dkimages.com/discover/previews/1052/20258337.JPG\n",
      "59 http://farm4.static.flickr.com/3116/2317695997_0537955b5f.jpg\n",
      "60 http://farm4.static.flickr.com/3602/3328031438_cc5522e5ae.jpg\n",
      "61 http://farm3.static.flickr.com/2596/3973845003_617eb66fee.jpg\n",
      "62 http://farm3.static.flickr.com/2170/2241188372_47e360471e.jpg\n",
      "63 http://farm3.static.flickr.com/2787/4152223097_a97b1b4d6d.jpg\n",
      "64 http://farm2.static.flickr.com/1402/1175639914_820892f5bb.jpg\n",
      "65 http://farm6.static.flickr.com/5133/5542950706_08e77a5a5c.jpg\n",
      "66 http://farm5.static.flickr.com/4094/4760699835_9a7389cfec.jpg\n",
      "67 http://www.honoluluzoo.org/images/chimp-wayde.jpg\n",
      "67 http://farm4.static.flickr.com/3028/2841471025_6d15e77818.jpg\n",
      "68 http://farm4.static.flickr.com/3083/3157246558_8fcf91dbd8.jpg\n",
      "69 http://farm2.static.flickr.com/1207/835266424_79d42917d1.jpg\n",
      "70 http://www.hik.hu/tankonyvtar/site/books/b10023/images/00105.gif\n",
      "70 http://farm3.static.flickr.com/2743/4257437306_970e836c12.jpg\n",
      "71 http://www.huntingtonhistoricalsociety.org/images/Antiques%20Show%203/Bed4.jpg\n",
      "71 http://farm3.static.flickr.com/2653/4111752640_1cb96ae8d2.jpg\n",
      "skipping url http://farm3.static.flickr.com/2653/4111752640_1cb96ae8d2.jpg\n",
      "71 http://farm1.static.flickr.com/62/223383088_15efb1be20.jpg\n",
      "72 http://members.westnet.com.au/freobonsai/Images/paintbrush.jpg\n",
      "72 http://farm4.static.flickr.com/3358/3582354059_80226587c0.jpg\n",
      "73 http://farm2.static.flickr.com/1357/1429037170_96963aec29.jpg\n",
      "74 http://farm3.static.flickr.com/2472/3670274093_14031bb4bd.jpg\n",
      "75 http://farm3.static.flickr.com/2298/2150683662_3545a6ee80.jpg\n",
      "76 http://farm1.static.flickr.com/157/335771313_acb2302e90.jpg\n",
      "77 http://farm3.static.flickr.com/2167/2001254196_0feea0a6eb.jpg\n",
      "78 http://farm1.static.flickr.com/189/493624118_b2f81f5f0b.jpg\n",
      "79 http://farm4.staticflickr.com/3262/2735672039_14346c3df1.jpg\n",
      "79 http://farm2.static.flickr.com/1371/1351502263_f67cc7266d.jpg\n",
      "80 http://farm3.static.flickr.com/2523/3962892664_90e0a2f853.jpg\n",
      "81 http://farm1.static.flickr.com/56/126791239_8d94a7f9d1.jpg\n",
      "82 http://biz.thestar.com.my/archives/2006/10/30/business/b_05naga.jpg\n",
      "82 http://farm1.static.flickr.com/237/457577912_a16e574d96.jpg\n",
      "83 http://farm4.static.flickr.com/3639/3395238026_ff0127a451.jpg\n",
      "84 http://www.buildyourbrand.com/data/images/5150-15bi.jpg\n",
      "84 http://farm3.static.flickr.com/2290/2335606762_761c5a70aa.jpg\n",
      "85 http://farm1.static.flickr.com/120/301916956_16893215f0.jpg\n",
      "86 http://farm4.static.flickr.com/3073/2288593246_e2f4ee42e8.jpg\n",
      "skipping url http://farm4.static.flickr.com/3073/2288593246_e2f4ee42e8.jpg\n",
      "86 http://farm2.static.flickr.com/1107/1414366939_2e0b5e09f9.jpg\n",
      "87 http://www.elitespiralstairs.co.uk/prodpics/pic1_1.jpg\n",
      "87 http://farm1.static.flickr.com/109/279218395_f32bea5cfc.jpg\n",
      "skipping url http://farm1.static.flickr.com/109/279218395_f32bea5cfc.jpg\n",
      "87 http://www.freewebs.com/slayer_x/Hourglass_V_1.jpg\n",
      "87 http://farm6.static.flickr.com/5143/5641428559_f30f058636.jpg\n",
      "88 http://farm1.static.flickr.com/180/485075079_06c90b069b.jpg\n",
      "89 http://farm4.static.flickr.com/3563/3431247238_6c2b975e98.jpg\n",
      "90 http://farm4.static.flickr.com/3629/3682107038_ccfa87d513.jpg\n",
      "91 http://farm6.static.flickr.com/5135/5575607463_10c39b3d33.jpg\n",
      "92 http://farm4.static.flickr.com/3226/3627635704_e6412dacd1.jpg\n",
      "93 http://2.bp.blogspot.com/_DuFsJFqna9w/Sx_CTpMuzeI/AAAAAAAAFCA/yoP16VCCvJ8/s400/Loción+Lavander+Lightly+Kat+Burki.jpg\n",
      "93 http://farm4.static.flickr.com/3608/5728261587_c9cdd92faf.jpg\n",
      "94 http://farm4.static.flickr.com/3592/3364648290_2e95d43911.jpg\n",
      "95 http://farm2.static.flickr.com/1079/895084464_15dc6704d8.jpg\n",
      "96 http://farm5.static.flickr.com/4010/4484451180_df3056200e.jpg\n",
      "97 http://farm3.static.flickr.com/2552/3971849266_3ef9156809.jpg\n",
      "98 http://farm3.static.flickr.com/2102/5739715106_4708d34cb6.jpg\n",
      "99 http://farm4.static.flickr.com/3602/3688817824_8716199309.jpg\n",
      "(100, 3, 224, 224)\n"
     ]
    }
   ],
   "source": [
    "# Validation Set\n",
    "index = urllib.urlopen('http://www.image-net.org/challenges/LSVRC/2012/ori_urls/indexval.html').read()\n",
    "image_urls = index.split('<br>')\n",
    "\n",
    "np.random.seed(19)\n",
    "np.random.shuffle(image_urls)\n",
    "image_urls = image_urls\n",
    "\n",
    "images = np.zeros ((100, 3, 224, 224), dtype=np.float32)\n",
    "i = 0\n",
    "\n",
    "for im_url in image_urls:\n",
    "    print i, im_url\n",
    "    if 'static.flickr' not in im_url:\n",
    "        used=False\n",
    "        continue\n",
    "    _, result = prep_image (im_url)\n",
    "    if result.any():\n",
    "        images[i] = result\n",
    "        i+=1\n",
    "        prev_used=True\n",
    "    if i >= 100: \n",
    "        break\n",
    "\n",
    "print images.shape\n",
    "            "
   ]
  },
  {
   "cell_type": "markdown",
   "metadata": {},
   "source": [
    "Here you can save the images to a pickled file."
   ]
  },
  {
   "cell_type": "code",
   "execution_count": null,
   "metadata": {
    "collapsed": false
   },
   "outputs": [],
   "source": [
    "import cPickle as pickle\n",
    "!pwd\n",
    "def save_images (images, dataset=\"imagenet_val\"):\n",
    "    \"\"\" \n",
    "    Saves an array of images to file.\n",
    "    \n",
    "    \"\"\"\n",
    "    filename = dataset + \"_\" + str(images.shape[0])\n",
    "    with open('../datasets/'+filename+'.pkl', 'w+') as f:\n",
    "        pickle.dump(images, f)\n",
    "\n",
    "def load_images (filename):\n",
    "    \"\"\" \n",
    "    Loads images from file and returns it.\n",
    "    \"\"\"\n",
    "    data = None\n",
    "    with open('../datasets/' + filename, 'rb') as f:\n",
    "        data = pickle.load(f)\n",
    "    return data"
   ]
  },
  {
   "cell_type": "code",
   "execution_count": 8,
   "metadata": {
    "collapsed": false
   },
   "outputs": [
    {
     "name": "stdout",
     "output_type": "stream",
     "text": [
      "uint8\n"
     ]
    }
   ],
   "source": []
  },
  {
   "cell_type": "code",
   "execution_count": 11,
   "metadata": {
    "collapsed": false
   },
   "outputs": [
    {
     "name": "stdout",
     "output_type": "stream",
     "text": [
      "100 (100, 3, 224, 224)\n",
      "(100, 1000)\n",
      "100 images took 109.483766079 seconds\n"
     ]
    }
   ],
   "source": [
    "%matplotlib inline\n",
    "from time import time\n",
    "\n",
    "\n",
    "# Process test images and print top 5 labels\n",
    "def run_forward(images):\n",
    "    #for i in xrange(10):\n",
    "    im = images[:, :, :, :]\n",
    "\n",
    "    print i, im.shape\n",
    "    prob = np.array(lasagne.layers.get_output(net['prob'], im, deterministic=True).eval())\n",
    "    print prob.shape #top5 = np.argsort(prob[0])[-1]\n",
    "    # print top5\n",
    "    #         plt.figure()\n",
    "    #         plt.imshow(rawim.astype('uint8'))\n",
    "    #         plt.axis('off')\n",
    "    \n",
    "t0 = time()\n",
    "run_forward(images)\n",
    "t1 = time()\n",
    "\n",
    "print \"100 images took {0} seconds\".format(t1 - t0)"
   ]
  },
  {
   "cell_type": "code",
   "execution_count": null,
   "metadata": {
    "collapsed": true
   },
   "outputs": [],
   "source": []
  }
 ],
 "metadata": {
  "kernelspec": {
   "display_name": "Python 2",
   "language": "python",
   "name": "python2"
  },
  "language_info": {
   "codemirror_mode": {
    "name": "ipython",
    "version": 2
   },
   "file_extension": ".py",
   "mimetype": "text/x-python",
   "name": "python",
   "nbconvert_exporter": "python",
   "pygments_lexer": "ipython2",
   "version": "2.7.6"
  }
 },
 "nbformat": 4,
 "nbformat_minor": 0
}
