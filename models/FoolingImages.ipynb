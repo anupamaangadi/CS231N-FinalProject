{
 "cells": [
  {
   "cell_type": "code",
   "execution_count": 118,
   "metadata": {
    "collapsed": false
   },
   "outputs": [],
   "source": [
    "import numpy as np\n",
    "import matplotlib.pyplot as plt\n",
    "import pickle\n",
    "import urllib\n",
    "import io\n",
    "import skimage.transform\n",
    "from textwrap import wrap\n",
    "import os\n",
    "\n",
    "import theano\n",
    "import theano.tensor as T\n",
    "from theano import pp\n",
    "import time\n",
    "\n",
    "import lasagne\n",
    "from lasagne.layers import InputLayer, DenseLayer, DropoutLayer, get_output\n",
    "from lasagne.layers.conv import Conv2DLayer as ConvLayer\n",
    "from lasagne.layers.pool import Pool2DLayer as PoolLayer\n",
    "from lasagne.layers import NonlinearityLayer\n",
    "from lasagne.layers import DropoutLayer\n",
    "from lasagne.layers import LocalResponseNormalization2DLayer as NormLayer\n",
    "from lasagne.utils import floatX\n",
    "from lasagne.nonlinearities import softmax"
   ]
  },
  {
   "cell_type": "code",
   "execution_count": 127,
   "metadata": {
    "collapsed": false
   },
   "outputs": [],
   "source": [
    "# Model to be trained/tested against\n",
    "\n",
    "def build_model(batch_size = None,input_var = None):\n",
    "    net = {}\n",
    "    net['input'] = InputLayer((batch_size, 3, 224, 224),input_var=input_var)\n",
    "    net['conv1_1'] = ConvLayer(\n",
    "        net['input'], 64, 3, pad=1)\n",
    "    net['conv1_2'] = ConvLayer(\n",
    "        net['conv1_1'], 64, 3, pad=1)\n",
    "    net['pool1'] = PoolLayer(net['conv1_2'], 2)\n",
    "    net['conv2_1'] = ConvLayer(\n",
    "        net['pool1'], 128, 3, pad=1)\n",
    "    net['conv2_2'] = ConvLayer(\n",
    "        net['conv2_1'], 128, 3, pad=1)\n",
    "    net['pool2'] = PoolLayer(net['conv2_2'], 2)\n",
    "    net['conv3_1'] = ConvLayer(\n",
    "        net['pool2'], 256, 3, pad=1)\n",
    "    net['conv3_2'] = ConvLayer(\n",
    "        net['conv3_1'], 256, 3, pad=1)\n",
    "    net['conv3_3'] = ConvLayer(\n",
    "        net['conv3_2'], 256, 3, pad=1)\n",
    "    net['conv3_4'] = ConvLayer(\n",
    "        net['conv3_3'], 256, 3, pad=1)\n",
    "    net['pool3'] = PoolLayer(net['conv3_4'], 2)\n",
    "    net['conv4_1'] = ConvLayer(\n",
    "        net['pool3'], 512, 3, pad=1)\n",
    "    net['conv4_2'] = ConvLayer(\n",
    "        net['conv4_1'], 512, 3, pad=1)\n",
    "    net['conv4_3'] = ConvLayer(\n",
    "        net['conv4_2'], 512, 3, pad=1)\n",
    "    net['conv4_4'] = ConvLayer(\n",
    "        net['conv4_3'], 512, 3, pad=1)\n",
    "    net['pool4'] = PoolLayer(net['conv4_4'], 2)\n",
    "    net['conv5_1'] = ConvLayer(\n",
    "        net['pool4'], 512, 3, pad=1)\n",
    "    net['conv5_2'] = ConvLayer(\n",
    "        net['conv5_1'], 512, 3, pad=1)\n",
    "    net['conv5_3'] = ConvLayer(\n",
    "        net['conv5_2'], 512, 3, pad=1)\n",
    "    net['conv5_4'] = ConvLayer(\n",
    "        net['conv5_3'], 512, 3, pad=1)\n",
    "    net['pool5'] = PoolLayer(net['conv5_4'], 2)\n",
    "    net['fc6'] = DenseLayer(net['pool5'], num_units=4096)\n",
    "    net['fc6_dropout'] = DropoutLayer(net['fc6'], p=0.5)\n",
    "    net['fc7'] = DenseLayer(net['fc6_dropout'], num_units=4096)\n",
    "    net['fc7_dropout'] = DropoutLayer(net['fc7'], p=0.5)\n",
    "    net['fc8'] = DenseLayer(\n",
    "        net['fc7_dropout'], num_units=1000, nonlinearity=None)\n",
    "    net['prob'] = NonlinearityLayer(net['fc8'], softmax)\n",
    "\n",
    "    return net"
   ]
  },
  {
   "cell_type": "code",
   "execution_count": 136,
   "metadata": {
    "collapsed": false
   },
   "outputs": [],
   "source": [
    "def make_fooling_image(X, target_y, model,input_var,var_y):\n",
    "\n",
    "    print \"Starting to make fooling images\"\n",
    "    X_fooling = X.copy()\n",
    "    lr = 1000\n",
    "    for i in xrange(100):\n",
    "        dX = model_train(X_fooling, target_y,input_var, var_y, model)\n",
    "        X_fooling += lr*dX\n",
    "        print \"Completed iteration {0}\".format(i+1)\n",
    "    \n",
    "    \n",
    "    \n",
    "    return X_fooling"
   ]
  },
  {
   "cell_type": "code",
   "execution_count": 137,
   "metadata": {
    "collapsed": true
   },
   "outputs": [],
   "source": [
    "def model_train(X,target_y, input_var, var_y, model):\n",
    "    dX = train_function(X,target_y)\n",
    "    return dX\n",
    "    \n",
    "    "
   ]
  },
  {
   "cell_type": "code",
   "execution_count": 138,
   "metadata": {
    "collapsed": false
   },
   "outputs": [],
   "source": [
    "def load_labels():\n",
    "    f = open(\"../datasets/val_gold_labels.txt\",'r')\n",
    "    labels = []\n",
    "    for line in f:\n",
    "        labels.append(int(line))\n",
    "\n",
    "    return np.asarray(labels)"
   ]
  },
  {
   "cell_type": "code",
   "execution_count": 139,
   "metadata": {
    "collapsed": true
   },
   "outputs": [],
   "source": [
    "def prep_image(url,mean_image):\n",
    "    # ext = url.split('.')[-1]\n",
    "    im = plt.imread(url,'JPEG')\n",
    "    # Resize so smallest dim = 256, preserving aspect ratio\n",
    "#     print url\n",
    "    if im.ndim < 3:\n",
    "        return None, None\n",
    "    \n",
    "    h, w, _ = im.shape\n",
    "    if h < w:\n",
    "        im = skimage.transform.resize(im, (256, w*256/h), preserve_range=True)\n",
    "    else:\n",
    "        im = skimage.transform.resize(im, (h*256/w, 256), preserve_range=True)\n",
    "\n",
    "    # Central crop to 224x224\n",
    "    h, w, _ = im.shape\n",
    "    im = im[h//2-112:h//2+112, w//2-112:w//2+112]\n",
    "    rawim = np.copy(im).astype('uint8')\n",
    "    \n",
    "    # Shuffle axes to c01\n",
    "    im = np.swapaxes(np.swapaxes(im, 1, 2), 0, 1)\n",
    "    \n",
    "    # Convert to BGR\n",
    "    im = im[::-1, :, :]\n",
    "    im = im - mean_image[:,None,None]\n",
    "    return rawim, floatX(im[np.newaxis])"
   ]
  },
  {
   "cell_type": "code",
   "execution_count": 140,
   "metadata": {
    "collapsed": true
   },
   "outputs": [],
   "source": [
    "def download_val_images (num_ex, mean_image,gold_labels,start,end):\n",
    "    ''' \n",
    "    Dynamically downloads sample images from ImageNet.  \n",
    "    '''\n",
    "    # index = urllib.urlopen('http://www.image-net.org/challenges/LSVRC/2012/ori_urls/indexval.html').read()\n",
    "#     image_urls = index.split('<br>')\n",
    "    imPath = '/srv/zfs01/user_data/nipuna1/val_data'\n",
    "    allFiles = os.listdir(imPath)\n",
    "    final_labels = gold_labels.copy()\n",
    "    result_labels = np.zeros(num_ex)\n",
    "    valid_urls = []\n",
    "\n",
    "    images = np.zeros ((num_ex, 3, 224, 224), dtype=np.float32)\n",
    "    i = 0\n",
    "    j = 0\n",
    "    used=True\n",
    "    rawim = np.zeros ((num_ex, 224, 224, 3), dtype=np.float32)\n",
    "    tot = 0\n",
    "    for j in xrange(start,end):\n",
    "        im = allFiles[j]\n",
    "        print im\n",
    "        rawimTemp, result = prep_image (imPath + '/' + im, mean_image)\n",
    "        if result is None:\n",
    "            continue\n",
    "    \n",
    "        if result.any():\n",
    "            images[i,:,:,:] = result\n",
    "            result_labels[i] = final_labels[j]\n",
    "            rawim[i,:,:,:] = rawimTemp\n",
    "            i += 1\n",
    "            tot += 1\n",
    "            valid_urls.append(im)\n",
    "           \n",
    "        if i >= num_ex: \n",
    "            break\n",
    "        if tot >= (end-start):\n",
    "            break\n",
    "        j += 1\n",
    "            \n",
    "    return rawim,images,result_labels,valid_urls"
   ]
  },
  {
   "cell_type": "code",
   "execution_count": 141,
   "metadata": {
    "collapsed": true
   },
   "outputs": [],
   "source": [
    "def load_data():\n",
    "    model = pickle.load(open('../weights/vgg19.pkl'))\n",
    "\n",
    "    classes = model['synset words']\n",
    "    mean_image= model['mean value']\n",
    "    \n",
    "    return model, classes, mean_image"
   ]
  },
  {
   "cell_type": "code",
   "execution_count": null,
   "metadata": {
    "collapsed": false
   },
   "outputs": [
    {
     "name": "stdout",
     "output_type": "stream",
     "text": [
      "Finished loading data......\n",
      "Finished loading golden labels......\n",
      "Finished creating the network and setting all the parameters......\n",
      "Created the training function\n",
      "ILSVRC2012_val_00049863.JPEG\n",
      "ILSVRC2012_val_00035607.JPEG\n",
      "Finished downloading images, normalizing them and extracting required number of images and labels......\n",
      "Original Classes are []\n",
      "Converting to following classes: [ 970.   65.]\n",
      "Starting to make fooling images\n",
      "Completed iteration 1\n",
      "Completed iteration 2\n",
      "Completed iteration 3\n",
      "Completed iteration 4\n",
      "Completed iteration 5\n",
      "Completed iteration 6\n",
      "Completed iteration 7\n",
      "Completed iteration 8\n"
     ]
    }
   ],
   "source": [
    "batch_size = 2\n",
    "num_ex = 2\n",
    "\n",
    "\n",
    "model, classes, mean_image = load_data()\n",
    "print \"Finished loading data......\"\n",
    "\n",
    "gold_labels = load_labels()\n",
    "print \"Finished loading golden labels......\"\n",
    "\n",
    "input_var = T.tensor4('inputs')\n",
    "var_y = T.ivector('y')\n",
    "net = build_model(batch_size=batch_size, input_var=input_var)\n",
    "lasagne.layers.set_all_param_values(net['prob'], model['param values'])\n",
    "print \"Finished creating the network and setting all the parameters......\"\n",
    "\n",
    "prediction = lasagne.layers.get_output(net['prob'])\n",
    "loss = lasagne.objectives.categorical_crossentropy(prediction, var_y)\n",
    "loss = loss.mean()\n",
    "dX = theano.grad(loss, input_var)\n",
    "train_function = theano.function([input_var, var_y],dX,allow_input_downcast=True)\n",
    "print \"Created the training function\"\n",
    "\n",
    "start = 0\n",
    "end = 2\n",
    "rawim,images,result_labels,valid_urls = download_val_images (num_ex, mean_image,gold_labels,start,end)\n",
    "print \"Finished downloading images, normalizing them and extracting required number of images and labels......\"\n",
    "\n",
    "np.random.seed(61)\n",
    "target_y = np.random.choice(result_labels,num_ex)\n",
    "print \"Original Classes are \" + str(result_labels[-1:-batch_size]) \n",
    "print \"Converting to following classes: \" + str(target_y)\n",
    "\n",
    "foolingX = make_fooling_image(images, target_y, net,input_var,var_y)\n",
    "\n",
    "print \"Completed making Fooling Images\"\n",
    "\n",
    "for i in xrange(batch_size):\n",
    "    true_prob = np.array(lasagne.layers.get_output(net['prob'], curSet, deterministic=True).eval())\n",
    "    print 'Making forward pass on true image'\n",
    "    true_top5 = np.argsort(true_prob,axis=1)[:,-1:-6:-1]\n",
    "    adv_prob = np.array(lasagne.layers.get_output(net['prob'], foolingX, deterministic=True).eval())\n",
    "    print \"Making forward pass on fooling image\"\n",
    "    adv_top5 = np.argsort(adv_prob,axis=1)[:,-1:-6:-1]\n",
    "    finalImage = foolingX[i,:,:,:] + mean_image\n",
    "    \n",
    "    plt.subplot(121)\n",
    "    plt.imshow(rawim[i,:,:,:].astype('uint8'))\n",
    "    for n, label in enumerate(true_top5[k,:]):\n",
    "        plt.text(0,260,'Original Image')\n",
    "        plt.text(0, 280 + n * 20, '{}. {} {} %'.format(n+1, classes[label],true_prob[k,label]*100), fontsize=12)\n",
    "\n",
    "    plt.subplot(122)\n",
    "    plt.imshow(finalImage[i,:,:,:].transpose(1,2,0).astype('uint8'))\n",
    "    for n, label in enumerate(adv_top5[k,:]):\n",
    "        plt.text(0,260,'Adverserial Image')\n",
    "        plt.text(340, 280 + n * 20, '{}. {} {} %'.format(n+1, classes[label],adv_prob[k,label]*100), fontsize=12)\n",
    "    \n"
   ]
  },
  {
   "cell_type": "code",
   "execution_count": null,
   "metadata": {
    "collapsed": true
   },
   "outputs": [],
   "source": []
  }
 ],
 "metadata": {
  "kernelspec": {
   "display_name": "Python 2",
   "language": "python",
   "name": "python2"
  },
  "language_info": {
   "codemirror_mode": {
    "name": "ipython",
    "version": 2
   },
   "file_extension": ".py",
   "mimetype": "text/x-python",
   "name": "python",
   "nbconvert_exporter": "python",
   "pygments_lexer": "ipython2",
   "version": "2.7.6"
  }
 },
 "nbformat": 4,
 "nbformat_minor": 0
}
